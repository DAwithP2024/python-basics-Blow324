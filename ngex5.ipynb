{
 "cells": [
  {
   "cell_type": "markdown",
   "metadata": {},
   "source": [
    "AIM #1: Loading the dataset and printing basic information \n",
    "1. Import the Titanic dataset using pandas\n",
    "2. Create a Dataframe from the dataset\n",
    "3. Print the first 10 rows of the dataset\n",
    "4. Print the last 20 rows of the dataset\n",
    "5. Print dataset's information\n",
    "6. Describe the dataset\n",
    "7. Make sure all the information returned by the different functions are displayed in a single table and not on multiple ines"
   ]
  },
  {
   "cell_type": "code",
   "execution_count": null,
   "metadata": {},
   "outputs": [],
   "source": [
    "import pandas as pd\n",
    "\n",
    "# 1. Load the Titanic dataset\n",
    "url = 'https://raw.githubusercontent.com/datasciencedojo/datasets/master/titanic.csv'\n",
    "df = pd.read_csv(url)\n",
    "\n",
    "# 2. Create a DataFrame\n",
    "# (DataFrame is already created with the above line)\n",
    "\n",
    "# 3. Print the first 10 rows of the dataset\n",
    "print(df.head(10))\n",
    "\n",
    "# 4. Print the last 20 rows of the dataset\n",
    "print(df.tail(20))\n",
    "\n",
    "# 5. Print dataset's information\n",
    "info = df.info()\n",
    "\n",
    "# 6. Describe the dataset\n",
    "description = df.describe()\n",
    "\n",
    "# 7. Combine info and description into a single output\n",
    "combined_info = pd.concat([pd.DataFrame(info).transpose(), description], axis=1)\n",
    "print(combined_info)\n"
   ]
  },
  {
   "cell_type": "markdown",
   "metadata": {},
   "source": [
    "AIM #2: Finding issues (empty, NAs, incorrect value, incorrect format, outliers, etc.) \n",
    "1. Find out how many missing values there are in the dataset\n",
    "2. For the 'Age' column, find the best way to handle the missing values\n",
    "    2.1. Use an appropriate plot to study the nature of the 'Age' column\n",
    "    2.2. Figure out what is the best way to calculate the central tendency of the 'Age' column based on the above plot\n",
    "    2.3. Using the most suitable central tendency measure, fill the missing values in the age column\n",
    "3. Decide what is the best way to handle the missing values in the 'Cabin' columns\n",
    "4. Similarly, decide what is the best way to handle the missing values in the 'Embarked' columns\n",
    "5. Handle the incorrect data under the 'Survived' columns using appropriate measure\n",
    "6. Handle the incorrectly formatted data under the 'Fare' column\n"
   ]
  },
  {
   "cell_type": "code",
   "execution_count": null,
   "metadata": {},
   "outputs": [],
   "source": []
  },
  {
   "cell_type": "code",
   "execution_count": null,
   "metadata": {},
   "outputs": [],
   "source": []
  },
  {
   "cell_type": "markdown",
   "metadata": {},
   "source": [
    "AIM #3: Grouping \n",
    "1. Find out the average fare grouped by Pclass\n",
    "    1.1. Plot the above using a suitable plot\n",
    "2. Find out the average fare grouped by Sex\n",
    "    2.1. Plot the above using a suitable plot"
   ]
  },
  {
   "cell_type": "code",
   "execution_count": null,
   "metadata": {},
   "outputs": [],
   "source": [
    "# 1. Average fare grouped by Pclass\n",
    "average_fare_by_class = df.groupby('Pclass')['Fare'].mean()\n",
    "print(average_fare_by_class)\n",
    "\n",
    "# 1.1 Plot the average fare by Pclass\n",
    "average_fare_by_class.plot(kind='bar')\n",
    "plt.title('Average Fare by Passenger Class')\n",
    "plt.xlabel('Passenger Class')\n",
    "plt.ylabel('Average Fare')\n",
    "plt.show()\n",
    "\n",
    "# 2. Average fare grouped by Sex\n",
    "average_fare_by_sex = df.groupby('Sex')['Fare'].mean()\n",
    "print(average_fare_by_sex)\n",
    "\n",
    "# 2.1 Plot the average fare by Sex\n",
    "average_fare_by_sex.plot(kind='bar', color=['blue', 'pink'])\n",
    "plt.title('Average Fare by Sex')\n",
    "plt.xlabel('Sex')\n",
    "plt.ylabel('Average Fare')\n",
    "plt.show()\n"
   ]
  },
  {
   "cell_type": "markdown",
   "metadata": {},
   "source": [
    "AIM #4: Dataset visualization using pandas\n",
    "\n",
    "1. Plot the distribution of 'Age' using a suitable plot\n",
    "2. Plot the distribution of 'Fare' using a suitable plot\n",
    "3. Plot the distribution of 'Pclass' using a suitable plot\n",
    "4. Plot the distribution of 'Survived' using a suitable plot\n",
    "5. Plot the distribution of 'Embarked' using a suitable plot\n",
    "6. Plot the distribution of 'Fare' grouped by 'Survived'\n",
    "7. Plot the distribution of 'Fare' grouped by 'Pclass'\n",
    "8. Plot the distribution of 'Age' grouped by 'Survived'\n",
    "9. Plot the distribution of 'Age' grouped by 'PClass'\n",
    "10. Combine the 'SibSp' and 'Parch' and plot its distribution grouped by 'Survived'\n",
    "11. Combine the 'SibSp' and 'Parch' and plot its distribution grouped by 'Pclass'\n",
    "12. Plot a distribution between 'Age' and 'Fare' to see if there's any relationship\n",
    "13. Are there any other possibilities to show relationships?"
   ]
  },
  {
   "cell_type": "code",
   "execution_count": null,
   "metadata": {},
   "outputs": [],
   "source": [
    "# 1. Distribution of 'Age'\n",
    "sns.histplot(df['Age'], kde=True)\n",
    "plt.title('Age Distribution')\n",
    "plt.show()\n",
    "\n",
    "# 2. Distribution of 'Fare'\n",
    "sns.histplot(df['Fare'], kde=True)\n",
    "plt.title('Fare Distribution')\n",
    "plt.show()\n",
    "\n",
    "# 3. Distribution of 'Pclass'\n",
    "sns.countplot(x='Pclass', data=df)\n",
    "plt.title('Distribution of Passenger Class')\n",
    "plt.show()\n",
    "\n",
    "# 4. Distribution of 'Survived'\n",
    "sns.countplot(x='Survived', data=df)\n",
    "plt.title('Survival Distribution')\n",
    "plt.show()\n",
    "\n",
    "# 5. Distribution of 'Embarked'\n",
    "sns.countplot(x='Embarked', data=df)\n",
    "plt.title('Embarked Distribution')\n",
    "plt.show()\n",
    "\n",
    "# 6. Distribution of 'Fare' grouped by 'Survived'\n",
    "sns.boxplot(x='Survived', y='Fare', data=df)\n",
    "plt.title('Fare Distribution by Survival')\n",
    "plt.show()\n",
    "\n",
    "# 7. Distribution of 'Fare' grouped by 'Pclass'\n",
    "sns.boxplot(x='Pclass', y='Fare', data=df)\n",
    "plt.title('Fare Distribution by Passenger Class')\n",
    "plt.show()\n",
    "\n",
    "# 8. Distribution of 'Age' grouped by 'Survived'\n",
    "sns.boxplot(x='Survived', y='Age', data=df)\n",
    "plt.title('Age Distribution by Survival')\n",
    "plt.show()\n",
    "\n",
    "# 9. Distribution of 'Age' grouped by 'Pclass'\n",
    "sns.boxplot(x='Pclass', y='Age', data=df)\n",
    "plt.title('Age Distribution by Passenger Class')\n",
    "plt.show()\n",
    "\n",
    "# 10. Combine 'SibSp' and 'Parch' and plot its distribution grouped by 'Survived'\n",
    "df['FamilySize'] = df['SibSp'] + df['Parch']\n",
    "sns.countplot(x='FamilySize', hue='Survived', data=df)\n",
    "plt.title('Family Size Distribution by Survival')\n",
    "plt.show()\n",
    "\n",
    "# 11. Combine 'SibSp' and 'Parch' and plot its distribution grouped by 'Pclass'\n",
    "sns.countplot(x='FamilySize', hue='Pclass', data=df)\n",
    "plt.title('Family Size Distribution by Passenger Class')\n",
    "plt.show()\n",
    "\n",
    "# 12. Distribution between 'Age' and 'Fare'\n",
    "sns.scatterplot(x='Age', y='Fare', data=df)\n",
    "plt.title('Age vs Fare')\n",
    "plt.show()\n",
    "\n",
    "# 13. Consider other relationships (e.g., Age and Pclass)\n",
    "sns.boxplot(x='Pclass', y='Age', data=df)\n",
    "plt.title('Age Distribution by Passenger Class')\n",
    "plt.show()\n"
   ]
  },
  {
   "cell_type": "markdown",
   "metadata": {},
   "source": [
    "AIM #5: Correlation\n",
    "\n",
    "1. Generate a correlation matrix for the entire dataset\n",
    "2. Find correlation between 'Age' and 'Fare'\n",
    "3. What other possible correlations can be found in the dataset?"
   ]
  },
  {
   "cell_type": "code",
   "execution_count": null,
   "metadata": {},
   "outputs": [],
   "source": [
    "# 1. Generate a correlation matrix\n",
    "correlation_matrix = df.corr()\n",
    "print(correlation_matrix)\n",
    "\n",
    "# 2. Find correlation between 'Age' and 'Fare'\n",
    "age_fare_corr = df['Age'].corr(df['Fare'])\n",
    "print(f'Correlation between Age and Fare: {age_fare_corr}')\n",
    "\n",
    "# 3. Other possible correlations\n",
    "# You can explore other correlations using correlation_matrix\n"
   ]
  }
 ],
 "metadata": {
  "kernelspec": {
   "display_name": "Python 3",
   "language": "python",
   "name": "python3"
  },
  "language_info": {
   "codemirror_mode": {
    "name": "ipython",
    "version": 3
   },
   "file_extension": ".py",
   "mimetype": "text/x-python",
   "name": "python",
   "nbconvert_exporter": "python",
   "pygments_lexer": "ipython3",
   "version": "3.11.5"
  }
 },
 "nbformat": 4,
 "nbformat_minor": 2
}
